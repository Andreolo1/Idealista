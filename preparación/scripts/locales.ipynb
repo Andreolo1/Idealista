{
 "cells": [
  {
   "cell_type": "code",
   "execution_count": 3,
   "metadata": {},
   "outputs": [
    {
     "name": "stdout",
     "output_type": "stream",
     "text": [
      "{'jesús': 161, 'poblats marítims': 132, 'patraix': 174, 'camins al grau': 152, 'ciutat vella': 248, 'rascanya': 156, 'campanar': 89, 'la saïdia': 151, 'quatre carreres': 222, 'extramurs': 231, 'benicalap': 89, \"l'eixample\": 181, 'el pla del real': 85, 'benimaclet': 91, 'algirós': 107, \"l'olivereta\": 135, \"pobles de l'oest\": 58, 'pobles del sud': 34, 'pobles del nord': 5}\n"
     ]
    }
   ],
   "source": [
    "# Locales totales\n",
    "\n",
    "d = {}\n",
    "\n",
    "with open('localesR.csv', encoding = 'UTF-8') as f:\n",
    "    lineas = f.readlines()\n",
    "    for l in lineas[1:]:\n",
    "        lin = l.split(';')\n",
    "        distrito = str(lin[19].strip())\n",
    "        if distrito not in d:\n",
    "            d[distrito] = 1\n",
    "        else:\n",
    "            d[distrito] += 1\n",
    "        \n",
    "d_suma = d        \n",
    "print(d_suma)"
   ]
  },
  {
   "cell_type": "code",
   "execution_count": 10,
   "metadata": {},
   "outputs": [
    {
     "name": "stdout",
     "output_type": "stream",
     "text": [
      "{'jesús': 108944.55900621117, 'poblats marítims': 147095.27272727274, 'patraix': 153548.2643678161, 'camins al grau': 188375.3552631579, 'ciutat vella': 133621.7258064516, 'rascanya': 76765.94871794872, 'campanar': 94322.87640449438, 'la saïdia': 104207.31125827815, 'quatre carreres': 131627.21171171172, 'extramurs': 103242.07792207792, 'benicalap': 94936.76404494382, \"l'eixample\": 169523.54696132598, 'el pla del real': 182684.24705882353, 'benimaclet': 106648.5054945055, 'algirós': 143668.15887850468, \"l'olivereta\": 99986.03703703704, \"pobles de l'oest\": 68567.6724137931, 'pobles del sud': 124773.9705882353, 'pobles del nord': 292000.0}\n"
     ]
    }
   ],
   "source": [
    "# Precio medio\n",
    "\n",
    "d = {}\n",
    "\n",
    "with open('localesR.csv', encoding = 'UTF-8') as f:\n",
    "    lineas = f.readlines()\n",
    "    for l in lineas[1:]:\n",
    "        lin = l.split(';')\n",
    "        distrito = str(lin[19].strip())\n",
    "        precio = float(lin[16].strip())\n",
    "        if distrito not in d:\n",
    "            d[distrito] = precio\n",
    "        else:\n",
    "            d[distrito] += precio\n",
    "            \n",
    "d_precio = d\n",
    "\n",
    "d_media_precio = {}\n",
    "for k, v in d_suma.items():\n",
    "    d_media_precio[k] = d_precio[k] / d_suma[k]\n",
    "\n",
    "print(d_media_precio)"
   ]
  },
  {
   "cell_type": "code",
   "execution_count": 11,
   "metadata": {},
   "outputs": [
    {
     "name": "stdout",
     "output_type": "stream",
     "text": [
      "{'jesús': 10.397515527950311, 'poblats marítims': 9.583333333333334, 'patraix': 9.586206896551724, 'camins al grau': 9.105263157894736, 'ciutat vella': 7.354838709677419, 'rascanya': 10.384615384615385, 'campanar': 6.865168539325842, 'la saïdia': 9.198675496688741, 'quatre carreres': 8.716216216216216, 'extramurs': 7.7229437229437226, 'benicalap': 9.651685393258427, \"l'eixample\": 7.116022099447513, 'el pla del real': 8.741176470588234, 'benimaclet': 6.4945054945054945, 'algirós': 8.0, \"l'olivereta\": 9.170370370370371, \"pobles de l'oest\": 10.741379310344827, 'pobles del sud': 10.558823529411764, 'pobles del nord': 11.6}\n"
     ]
    }
   ],
   "source": [
    "# Número de días medio en el mercado\n",
    "\n",
    "d = {}\n",
    "\n",
    "with open('localesR.csv', encoding = 'UTF-8') as f:\n",
    "    lineas = f.readlines()\n",
    "    for l in lineas[1:]:\n",
    "        lin = l.split(';')\n",
    "        dias = str(lin[22].strip())\n",
    "        distrito = str(lin[19].strip())\n",
    "        dias = int(dias.replace(' days', ''))\n",
    "        if distrito not in d:\n",
    "            d[distrito] = dias\n",
    "        else:\n",
    "            d[distrito] += dias\n",
    "\n",
    "d_dias = d\n",
    "\n",
    "d_media_dias = {}\n",
    "for k, v in d_suma.items():\n",
    "    d_media_dias[k] = d_dias[k] / d_suma[k]\n",
    "\n",
    "print(d_media_dias)"
   ]
  },
  {
   "cell_type": "code",
   "execution_count": 19,
   "metadata": {},
   "outputs": [],
   "source": [
    "# preparamos el archivo csv\n",
    "\n",
    "import csv\n",
    "\n",
    "lista = [['distrito', 'num_locales', 'precio_medio', 'dias_medio']]\n",
    "\n",
    "for k, v in d_suma.items():\n",
    "    lista.append([k, v, round(d_media_precio[k],2), round(d_media_dias[k],2)])\n",
    "    \n",
    "with open('locales_graficar.csv', 'w', encoding = 'UTF-8') as f:\n",
    "    writer = csv.writer(f)\n",
    "    writer.writerows(lista)"
   ]
  }
 ],
 "metadata": {
  "kernelspec": {
   "display_name": "Python 3 (ipykernel)",
   "language": "python",
   "name": "python3"
  },
  "language_info": {
   "codemirror_mode": {
    "name": "ipython",
    "version": 3
   },
   "file_extension": ".py",
   "mimetype": "text/x-python",
   "name": "python",
   "nbconvert_exporter": "python",
   "pygments_lexer": "ipython3",
   "version": "3.9.7"
  }
 },
 "nbformat": 4,
 "nbformat_minor": 4
}
