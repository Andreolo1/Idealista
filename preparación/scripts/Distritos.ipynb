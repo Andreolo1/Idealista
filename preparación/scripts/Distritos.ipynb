{
 "cells": [
  {
   "cell_type": "code",
   "execution_count": 1,
   "metadata": {},
   "outputs": [],
   "source": [
    "import requests\n",
    "from bs4 import BeautifulSoup "
   ]
  },
  {
   "cell_type": "code",
   "execution_count": 2,
   "metadata": {},
   "outputs": [],
   "source": [
    "url = 'https://ca.wikipedia.org/wiki/Districtes_de_Val%C3%A8ncia'\n",
    "resul = requests.get(url)\n",
    "src = resul.content\n",
    "soup = BeautifulSoup(src, 'lxml')"
   ]
  },
  {
   "cell_type": "markdown",
   "metadata": {},
   "source": [
    "### Sacamos los nombres y las URLs de DISTRITOS"
   ]
  },
  {
   "cell_type": "code",
   "execution_count": 3,
   "metadata": {},
   "outputs": [
    {
     "name": "stdout",
     "output_type": "stream",
     "text": [
      "['ciutat vella', 'la seu', 'la xerea', 'el carme', 'el pilar', 'el mercat', 'sant francesc', \"l'eixample\", 'russafa', 'el pla del remei', 'gran via', 'extramurs', 'el botànic', 'la roqueta', 'la petxina', 'arrancapins', 'campanar', 'campanar', 'les tendetes', 'el calvari', 'sant pau', 'la saïdia', 'marxalenes', 'morvedre', 'trinitat', 'tormos', 'sant antoni', 'el pla del real', \"l'exposició\", 'mestalla', 'jaume roig', 'ciutat universitària', \"l'olivereta\", 'nou moles', 'soternes', 'tres forques', 'la fontsanta', 'la llum', 'patraix', 'patraix', 'sant isidre', 'vara de quart', 'safranar', 'favara', 'jesús', 'la raïosa', \"l'hort de senabre\", 'la creu coberta', 'sant marcel·lí', 'camí real', 'quatre carreres', 'montolivet', 'en corts', 'malilla', 'la fonteta de sant lluís', 'na rovella', 'la punta', 'ciutat de les arts i les ciències', 'poblats marítims', 'el grau', 'el cabanyal-canyamelar', 'la malva-rosa', 'beteró', 'natzaret', 'camins al grau', 'aiora', 'albors', 'la creu del grau', 'camí fondo', 'penya-roja', 'algirós', \"l'illa perduda\", 'ciutat jardí', \"l'amistat\", 'la bega baixa', 'la carrasca', 'benimaclet', 'benimaclet', 'camí de vera', 'rascanya', 'els orriols', 'torrefiel', 'sant llorenç', 'benicalap', 'benicalap', 'ciutat fallera', 'pobles del nord', 'benifaraig', 'poble nou', 'carpesa', 'cases de bàrcena', 'mauella', 'massarrojos', 'borbotó', \"pobles de l'oest\", 'benimàmet', 'beniferri', 'pobles del sud', \"el forn d'alcedo\", \"el castellar-l'oliveral\", 'pinedo', 'el saler', 'el palmar', 'el perellonet', 'la torre', 'faitanar']\n",
      "['ciutat vella', \"l'eixample\", 'extramurs', 'campanar', 'la saïdia', 'el pla del real', \"l'olivereta\", 'patraix', 'jesús', 'quatre carreres', 'poblats marítims', 'camins al grau', 'algirós', 'benimaclet', 'rascanya', 'benicalap', 'pobles del nord', \"pobles de l'oest\", 'pobles del sud']\n"
     ]
    }
   ],
   "source": [
    "dic = {}\n",
    "dicBarrios = {}\n",
    "nombres = []\n",
    "todo = []\n",
    "tabla = soup.find_all('table', class_=\"wikitable\")\n",
    "for fila in tabla:\n",
    "    for distrito in fila.find_all('b'):\n",
    "        for elem in distrito.find_all('a', href=True):\n",
    "            nombre = elem.text\n",
    "            url = elem.get('href')\n",
    "            url = 'https://es.wikipedia.org' + url\n",
    "            nombres.append(nombre.lower())\n",
    "            dic[nombre] = url\n",
    "    for barrio in fila.find_all('td'):\n",
    "        for b in barrio.find_all('a', href=True):\n",
    "            barrioNom = b.text\n",
    "            if barrioNom != '':\n",
    "                todo.append(barrioNom.lower())\n",
    "\n",
    "print(todo)\n",
    "\n",
    "print(nombres)"
   ]
  },
  {
   "cell_type": "markdown",
   "metadata": {},
   "source": [
    "### Sacar diccionario distritos:\n",
    " { distrito: [ barrio_1, barrio_2, ..., barrio_n ] }"
   ]
  },
  {
   "cell_type": "code",
   "execution_count": 4,
   "metadata": {},
   "outputs": [
    {
     "name": "stdout",
     "output_type": "stream",
     "text": [
      "{'ciutat vella': ['la seu', 'la xerea', 'el carme', 'el pilar', 'el mercat', 'sant francesc'], \"l'eixample\": ['russafa', 'el pla del remei', 'gran via'], 'extramurs': ['el botànic', 'la roqueta', 'la petxina', 'arrancapins'], 'campanar': ['les tendetes', 'el calvari', 'sant pau'], 'la saïdia': ['marxalenes', 'morvedre', 'trinitat', 'tormos', 'sant antoni'], 'el pla del real': [\"l'exposició\", 'mestalla', 'jaume roig', 'ciutat universitària'], \"l'olivereta\": ['nou moles', 'soternes', 'tres forques', 'la fontsanta', 'la llum'], 'patraix': ['sant isidre', 'vara de quart', 'safranar', 'favara'], 'jesús': ['la raïosa', \"l'hort de senabre\", 'la creu coberta', 'sant marcel·lí', 'camí real'], 'quatre carreres': ['montolivet', 'en corts', 'malilla', 'la fonteta de sant lluís', 'na rovella', 'la punta', 'ciutat de les arts i les ciències'], 'poblats marítims': ['el grau', 'el cabanyal-canyamelar', 'la malva-rosa', 'beteró', 'natzaret'], 'camins al grau': ['aiora', 'albors', 'la creu del grau', 'camí fondo', 'penya-roja'], 'algirós': [\"l'illa perduda\", 'ciutat jardí', \"l'amistat\", 'la bega baixa', 'la carrasca'], 'benimaclet': ['camí de vera'], 'rascanya': ['els orriols', 'torrefiel', 'sant llorenç'], 'benicalap': ['ciutat fallera'], 'pobles del nord': ['benifaraig', 'poble nou', 'carpesa', 'cases de bàrcena', 'mauella', 'massarrojos', 'borbotó'], \"pobles de l'oest\": ['benimàmet', 'beniferri'], 'pobles del sud': [\"el forn d'alcedo\", \"el castellar-l'oliveral\", 'pinedo', 'el saler', 'el palmar', 'el perellonet', 'la torre', 'faitanar']}\n"
     ]
    }
   ],
   "source": [
    "dist = \"\"\n",
    "distrito_barrio = {}\n",
    "\n",
    "for i, distrito in enumerate(todo):\n",
    "    if distrito in nombres:\n",
    "        distrito_barrio[distrito] = []\n",
    "        dist = distrito\n",
    "    else:\n",
    "        distrito_barrio[dist].append(distrito)\n",
    "\n",
    "print(distrito_barrio)"
   ]
  },
  {
   "cell_type": "code",
   "execution_count": 6,
   "metadata": {},
   "outputs": [
    {
     "name": "stdout",
     "output_type": "stream",
     "text": [
      "8, Carrer de la Visitació, Morvedre, la Saïdia, València, Comarca de València, València / Valencia, Comunitat Valenciana, 46009, España\n"
     ]
    }
   ],
   "source": [
    "from geopy.geocoders import Nominatim\n",
    "locator = Nominatim(user_agent=\"myGeocoder\")\n",
    "location = locator.geocode(\"CL VISITACIÓN 8, València\")\n",
    "print(location)"
   ]
  },
  {
   "cell_type": "code",
   "execution_count": 7,
   "metadata": {},
   "outputs": [
    {
     "ename": "FileNotFoundError",
     "evalue": "[Errno 2] No such file or directory: 'Listado.xls'",
     "output_type": "error",
     "traceback": [
      "\u001b[1;31m---------------------------------------------------------------------------\u001b[0m",
      "\u001b[1;31mFileNotFoundError\u001b[0m                         Traceback (most recent call last)",
      "\u001b[1;32m~\\AppData\\Local\\Temp/ipykernel_11060/2537915336.py\u001b[0m in \u001b[0;36m<module>\u001b[1;34m\u001b[0m\n\u001b[0;32m      1\u001b[0m \u001b[1;32mimport\u001b[0m \u001b[0mpandas\u001b[0m \u001b[1;32mas\u001b[0m \u001b[0mpd\u001b[0m\u001b[1;33m\u001b[0m\u001b[1;33m\u001b[0m\u001b[0m\n\u001b[1;32m----> 2\u001b[1;33m \u001b[0mdf\u001b[0m \u001b[1;33m=\u001b[0m \u001b[0mpd\u001b[0m\u001b[1;33m.\u001b[0m\u001b[0mread_excel\u001b[0m\u001b[1;33m(\u001b[0m\u001b[1;34m'Listado.xls'\u001b[0m\u001b[1;33m)\u001b[0m\u001b[1;33m\u001b[0m\u001b[1;33m\u001b[0m\u001b[0m\n\u001b[0m\u001b[0;32m      3\u001b[0m \u001b[0mdf\u001b[0m\u001b[1;33m\u001b[0m\u001b[1;33m\u001b[0m\u001b[0m\n",
      "\u001b[1;32m~\\Anaconda3\\lib\\site-packages\\pandas\\util\\_decorators.py\u001b[0m in \u001b[0;36mwrapper\u001b[1;34m(*args, **kwargs)\u001b[0m\n\u001b[0;32m    309\u001b[0m                     \u001b[0mstacklevel\u001b[0m\u001b[1;33m=\u001b[0m\u001b[0mstacklevel\u001b[0m\u001b[1;33m,\u001b[0m\u001b[1;33m\u001b[0m\u001b[1;33m\u001b[0m\u001b[0m\n\u001b[0;32m    310\u001b[0m                 )\n\u001b[1;32m--> 311\u001b[1;33m             \u001b[1;32mreturn\u001b[0m \u001b[0mfunc\u001b[0m\u001b[1;33m(\u001b[0m\u001b[1;33m*\u001b[0m\u001b[0margs\u001b[0m\u001b[1;33m,\u001b[0m \u001b[1;33m**\u001b[0m\u001b[0mkwargs\u001b[0m\u001b[1;33m)\u001b[0m\u001b[1;33m\u001b[0m\u001b[1;33m\u001b[0m\u001b[0m\n\u001b[0m\u001b[0;32m    312\u001b[0m \u001b[1;33m\u001b[0m\u001b[0m\n\u001b[0;32m    313\u001b[0m         \u001b[1;32mreturn\u001b[0m \u001b[0mwrapper\u001b[0m\u001b[1;33m\u001b[0m\u001b[1;33m\u001b[0m\u001b[0m\n",
      "\u001b[1;32m~\\Anaconda3\\lib\\site-packages\\pandas\\io\\excel\\_base.py\u001b[0m in \u001b[0;36mread_excel\u001b[1;34m(io, sheet_name, header, names, index_col, usecols, squeeze, dtype, engine, converters, true_values, false_values, skiprows, nrows, na_values, keep_default_na, na_filter, verbose, parse_dates, date_parser, thousands, comment, skipfooter, convert_float, mangle_dupe_cols, storage_options)\u001b[0m\n\u001b[0;32m    362\u001b[0m     \u001b[1;32mif\u001b[0m \u001b[1;32mnot\u001b[0m \u001b[0misinstance\u001b[0m\u001b[1;33m(\u001b[0m\u001b[0mio\u001b[0m\u001b[1;33m,\u001b[0m \u001b[0mExcelFile\u001b[0m\u001b[1;33m)\u001b[0m\u001b[1;33m:\u001b[0m\u001b[1;33m\u001b[0m\u001b[1;33m\u001b[0m\u001b[0m\n\u001b[0;32m    363\u001b[0m         \u001b[0mshould_close\u001b[0m \u001b[1;33m=\u001b[0m \u001b[1;32mTrue\u001b[0m\u001b[1;33m\u001b[0m\u001b[1;33m\u001b[0m\u001b[0m\n\u001b[1;32m--> 364\u001b[1;33m         \u001b[0mio\u001b[0m \u001b[1;33m=\u001b[0m \u001b[0mExcelFile\u001b[0m\u001b[1;33m(\u001b[0m\u001b[0mio\u001b[0m\u001b[1;33m,\u001b[0m \u001b[0mstorage_options\u001b[0m\u001b[1;33m=\u001b[0m\u001b[0mstorage_options\u001b[0m\u001b[1;33m,\u001b[0m \u001b[0mengine\u001b[0m\u001b[1;33m=\u001b[0m\u001b[0mengine\u001b[0m\u001b[1;33m)\u001b[0m\u001b[1;33m\u001b[0m\u001b[1;33m\u001b[0m\u001b[0m\n\u001b[0m\u001b[0;32m    365\u001b[0m     \u001b[1;32melif\u001b[0m \u001b[0mengine\u001b[0m \u001b[1;32mand\u001b[0m \u001b[0mengine\u001b[0m \u001b[1;33m!=\u001b[0m \u001b[0mio\u001b[0m\u001b[1;33m.\u001b[0m\u001b[0mengine\u001b[0m\u001b[1;33m:\u001b[0m\u001b[1;33m\u001b[0m\u001b[1;33m\u001b[0m\u001b[0m\n\u001b[0;32m    366\u001b[0m         raise ValueError(\n",
      "\u001b[1;32m~\\Anaconda3\\lib\\site-packages\\pandas\\io\\excel\\_base.py\u001b[0m in \u001b[0;36m__init__\u001b[1;34m(self, path_or_buffer, engine, storage_options)\u001b[0m\n\u001b[0;32m   1189\u001b[0m                 \u001b[0mext\u001b[0m \u001b[1;33m=\u001b[0m \u001b[1;34m\"xls\"\u001b[0m\u001b[1;33m\u001b[0m\u001b[1;33m\u001b[0m\u001b[0m\n\u001b[0;32m   1190\u001b[0m             \u001b[1;32melse\u001b[0m\u001b[1;33m:\u001b[0m\u001b[1;33m\u001b[0m\u001b[1;33m\u001b[0m\u001b[0m\n\u001b[1;32m-> 1191\u001b[1;33m                 ext = inspect_excel_format(\n\u001b[0m\u001b[0;32m   1192\u001b[0m                     \u001b[0mcontent_or_path\u001b[0m\u001b[1;33m=\u001b[0m\u001b[0mpath_or_buffer\u001b[0m\u001b[1;33m,\u001b[0m \u001b[0mstorage_options\u001b[0m\u001b[1;33m=\u001b[0m\u001b[0mstorage_options\u001b[0m\u001b[1;33m\u001b[0m\u001b[1;33m\u001b[0m\u001b[0m\n\u001b[0;32m   1193\u001b[0m                 )\n",
      "\u001b[1;32m~\\Anaconda3\\lib\\site-packages\\pandas\\io\\excel\\_base.py\u001b[0m in \u001b[0;36minspect_excel_format\u001b[1;34m(content_or_path, storage_options)\u001b[0m\n\u001b[0;32m   1068\u001b[0m         \u001b[0mcontent_or_path\u001b[0m \u001b[1;33m=\u001b[0m \u001b[0mBytesIO\u001b[0m\u001b[1;33m(\u001b[0m\u001b[0mcontent_or_path\u001b[0m\u001b[1;33m)\u001b[0m\u001b[1;33m\u001b[0m\u001b[1;33m\u001b[0m\u001b[0m\n\u001b[0;32m   1069\u001b[0m \u001b[1;33m\u001b[0m\u001b[0m\n\u001b[1;32m-> 1070\u001b[1;33m     with get_handle(\n\u001b[0m\u001b[0;32m   1071\u001b[0m         \u001b[0mcontent_or_path\u001b[0m\u001b[1;33m,\u001b[0m \u001b[1;34m\"rb\"\u001b[0m\u001b[1;33m,\u001b[0m \u001b[0mstorage_options\u001b[0m\u001b[1;33m=\u001b[0m\u001b[0mstorage_options\u001b[0m\u001b[1;33m,\u001b[0m \u001b[0mis_text\u001b[0m\u001b[1;33m=\u001b[0m\u001b[1;32mFalse\u001b[0m\u001b[1;33m\u001b[0m\u001b[1;33m\u001b[0m\u001b[0m\n\u001b[0;32m   1072\u001b[0m     ) as handle:\n",
      "\u001b[1;32m~\\Anaconda3\\lib\\site-packages\\pandas\\io\\common.py\u001b[0m in \u001b[0;36mget_handle\u001b[1;34m(path_or_buf, mode, encoding, compression, memory_map, is_text, errors, storage_options)\u001b[0m\n\u001b[0;32m    709\u001b[0m         \u001b[1;32melse\u001b[0m\u001b[1;33m:\u001b[0m\u001b[1;33m\u001b[0m\u001b[1;33m\u001b[0m\u001b[0m\n\u001b[0;32m    710\u001b[0m             \u001b[1;31m# Binary mode\u001b[0m\u001b[1;33m\u001b[0m\u001b[1;33m\u001b[0m\u001b[0m\n\u001b[1;32m--> 711\u001b[1;33m             \u001b[0mhandle\u001b[0m \u001b[1;33m=\u001b[0m \u001b[0mopen\u001b[0m\u001b[1;33m(\u001b[0m\u001b[0mhandle\u001b[0m\u001b[1;33m,\u001b[0m \u001b[0mioargs\u001b[0m\u001b[1;33m.\u001b[0m\u001b[0mmode\u001b[0m\u001b[1;33m)\u001b[0m\u001b[1;33m\u001b[0m\u001b[1;33m\u001b[0m\u001b[0m\n\u001b[0m\u001b[0;32m    712\u001b[0m         \u001b[0mhandles\u001b[0m\u001b[1;33m.\u001b[0m\u001b[0mappend\u001b[0m\u001b[1;33m(\u001b[0m\u001b[0mhandle\u001b[0m\u001b[1;33m)\u001b[0m\u001b[1;33m\u001b[0m\u001b[1;33m\u001b[0m\u001b[0m\n\u001b[0;32m    713\u001b[0m \u001b[1;33m\u001b[0m\u001b[0m\n",
      "\u001b[1;31mFileNotFoundError\u001b[0m: [Errno 2] No such file or directory: 'Listado.xls'"
     ]
    }
   ],
   "source": [
    "import pandas as pd\n",
    "df = pd.read_excel('Listado.xls')\n",
    "df"
   ]
  },
  {
   "cell_type": "code",
   "execution_count": 11,
   "metadata": {},
   "outputs": [],
   "source": [
    "direccion = []\n",
    "for elem  in df['Domicilio']:\n",
    "    location = locator.geocode(elem + ', València')\n",
    "    if location is not None:\n",
    "        direccion.append(location)\n",
    "    else:\n",
    "        direccion.append(\" \")"
   ]
  },
  {
   "cell_type": "markdown",
   "metadata": {},
   "source": [
    "### Ver qué colegios han dado una buena localización, pero no sale el distrito en su dirección"
   ]
  },
  {
   "cell_type": "code",
   "execution_count": 15,
   "metadata": {},
   "outputs": [
    {
     "name": "stdout",
     "output_type": "stream",
     "text": [
      "['extramurs', 'camins al grau', 'el pla del real', 'campanar', 'poblats marítims', 'ciutat vella', \"l'eixample\", 'rascanya', 'extramurs', 'la saïdia', 'rascanya', 'quatre carreres', 'ciutat vella', 'extramurs', 'quatre carreres', 'rascanya', 'campanar', 'quatre carreres', 'la saïdia', 'jesús', 'campanar', 'algirós', 'jesús', 'algirós', 'extramurs', 'extramurs', 'extramurs', \"l'eixample\", 'patraix', 'quatre carreres', 'campanar', 'jesús', 'campanar', 'camins al grau', 'poblats marítims', 'benicalap', 'la saïdia', 'algirós', 'quatre carreres', 'campanar', 'el pla del real', \"l'eixample\", 'ciutat vella', \"l'eixample\", 'jesús', 'benicalap', \"l'olivereta\", 'benicalap', 'benicalap', 'rascanya', \"l'olivereta\", 'la saïdia', 'extramurs', 'patraix', 'poblats marítims', 'quatre carreres', 'patraix', 'campanar', 'poblats marítims', 'patraix', \"l'eixample\", 'jesús', 'benicalap', 'camins al grau', \"l'eixample\", 'extramurs', 'rascanya', 'rascanya', \"l'olivereta\", 'algirós', 'quatre carreres', 'rascanya', 'el pla del real', 'quatre carreres', 'extramurs', 'la saïdia', 'rascanya', 'quatre carreres', 'poblats marítims', 'extramurs', 'extramurs', 'patraix', 'campanar', 'camins al grau', 'jesús', 'benicalap', 'benicalap', 'poblats marítims', 'benimaclet', 'ciutat vella', 'ciutat vella', 'poblats marítims', 'extramurs', 'la saïdia', 'camins al grau', 'quatre carreres', 'jesús', 'la saïdia', 'la saïdia', 'campanar', 'rascanya', \"l'olivereta\", 'poblats marítims', 'la saïdia', 'extramurs', 'la saïdia', 'poblats marítims', \"l'olivereta\", 'benimaclet', 'ciutat vella', 'el pla del real', 'rascanya', 'quatre carreres', 'el pla del real', 'campanar', 'benicalap', 'poblats marítims', 'la saïdia', 'la saïdia', \"l'olivereta\", 'campanar', 'benicalap', 'quatre carreres', 'rascanya', 'jesús', 'quatre carreres', \"l'eixample\", 'jesús', 'ciutat vella', 'campanar', 'jesús', 'quatre carreres', 'campanar', 'el pla del real', 'ciutat vella', 'la saïdia', 'jesús', 'ciutat vella', 'campanar', 'extramurs', 'extramurs', 'extramurs', 'rascanya', \"l'eixample\", 'extramurs', 'jesús', 'quatre carreres', 'jesús', 'extramurs', 'la saïdia', \"l'olivereta\", 'jesús', \"l'olivereta\", 'camins al grau', 'poblats marítims', 'campanar', 'ciutat vella', 'patraix', 'campanar', 'camins al grau', 'patraix', 'algirós', 'quatre carreres', \"l'olivereta\", 'patraix', 'poblats marítims', 'benicalap', \"pobles de l'oest\", 'el pla del real', \"l'eixample\", 'quatre carreres', 'rascanya', 'la saïdia', 'jesús', 'rascanya', \"l'olivereta\", 'patraix', 'la saïdia', 'poblats marítims', \"l'eixample\", 'jesús', 'patraix', \"l'olivereta\", 'poblats marítims', 'camins al grau', 'jesús', 'rascanya', 'poblats marítims', 'camins al grau', 'ciutat vella', 'campanar', 'poblats marítims', 'quatre carreres', \"l'olivereta\", 'benicalap', \"pobles de l'oest\", 'la saïdia', 'rascanya', 'benicalap', 'quatre carreres', 'campanar', 'campanar', 'rascanya', 'campanar', 'ciutat vella', 'rascanya', 'campanar', 'poblats marítims', 'ciutat vella', \"l'olivereta\", 'rascanya', \"pobles de l'oest\", 'poblats marítims', \"l'olivereta\", 'jesús', 'extramurs', 'camins al grau', 'campanar', 'la saïdia', \"l'olivereta\", 'camins al grau', 'poblats marítims', 'jesús', 'quatre carreres', \"l'olivereta\", 'rascanya', 'rascanya', 'poblats marítims']\n"
     ]
    },
    {
     "data": {
      "text/plain": [
       "Counter({'extramurs': 19,\n",
       "         'camins al grau': 11,\n",
       "         'el pla del real': 7,\n",
       "         'campanar': 22,\n",
       "         'poblats marítims': 20,\n",
       "         'ciutat vella': 13,\n",
       "         \"l'eixample\": 10,\n",
       "         'rascanya': 21,\n",
       "         'la saïdia': 18,\n",
       "         'quatre carreres': 20,\n",
       "         'jesús': 19,\n",
       "         'algirós': 5,\n",
       "         'patraix': 10,\n",
       "         'benicalap': 12,\n",
       "         \"l'olivereta\": 16,\n",
       "         'benimaclet': 2,\n",
       "         \"pobles de l'oest\": 3})"
      ]
     },
     "execution_count": 15,
     "metadata": {},
     "output_type": "execute_result"
    }
   ],
   "source": [
    "import re\n",
    "res = []\n",
    "for elem in direccion:\n",
    "    elem = str(elem)\n",
    "    elem = elem.split(',')\n",
    "    res.append(elem)\n",
    "\n",
    "buenos = []  \n",
    "malotes = []\n",
    "for lista in res:\n",
    "    for elem in lista:\n",
    "        elem = re.sub(r\"^\\s+\", \"\", elem).lower()\n",
    "        if elem in nombres:\n",
    "            buenos.append(elem)\n",
    "#print(malotes)\n",
    "print(buenos)\n",
    "\n",
    "from collections import Counter\n",
    "d = Counter(palabra.lower() for palabra in buenos)\n",
    "d"
   ]
  },
  {
   "cell_type": "code",
   "execution_count": 238,
   "metadata": {},
   "outputs": [
    {
     "data": {
      "text/plain": [
       "Counter({'nan': 2800,\n",
       "         'extramurs': 19,\n",
       "         'camins al grau': 11,\n",
       "         'el pla del real': 7,\n",
       "         'campanar': 22,\n",
       "         'poblats marítims': 20,\n",
       "         'ciutat vella': 13,\n",
       "         \"l'eixample\": 10,\n",
       "         'rascanya': 21,\n",
       "         'la saïdia': 18,\n",
       "         'quatre carreres': 20,\n",
       "         'jesús': 19,\n",
       "         'algirós': 5,\n",
       "         'patraix': 10,\n",
       "         'benicalap': 12,\n",
       "         \"l'olivereta\": 16,\n",
       "         'benimaclet': 2,\n",
       "         \"pobles de l'oest\": 3})"
      ]
     },
     "execution_count": 238,
     "metadata": {},
     "output_type": "execute_result"
    }
   ],
   "source": [
    "from collections import Counter\n",
    "d = Counter(palabra.lower() for palabra in final)\n",
    "d"
   ]
  },
  {
   "cell_type": "code",
   "execution_count": 66,
   "metadata": {},
   "outputs": [
    {
     "name": "stdout",
     "output_type": "stream",
     "text": [
      "[Location(Calle San Jacinto, Colonia Segarra, la Vall d'Uixó, la Plana Baixa, Castelló / Castellón, Comunitat Valenciana, 12600, España, (39.8241292, -0.2222726, 0.0)), Location(Carrer de Calixt III, el Botànic, Extramurs, Comarca de València, València / Valencia, Comunitat Valenciana, 46008, España, (39.4710983, -0.3893572, 0.0)), Location(Carrer de l'Alcalde Cano Coloma, Camins al Grau, Comarca de València, València / Valencia, Comunitat Valenciana, 46011, España, (39.4662232, -0.3362533, 0.0)), Location(Carrer d'Alginet, el Pla del Real, Comarca de València, València / Valencia, Comunitat Valenciana, 46021, España, (39.471688, -0.3590266, 0.0)), Location(Parroquia de San Juan Bosco, 21, Carrer de Gregori Gea, les Tendetes, Campanar, València, Comarca de València, València / Valencia, Comunitat Valenciana, 46009, España, (39.4827004, -0.38587259642857585, 0.0)), Location(Carrer de Francesc Baldomà, el Cabanyal - Canyamelar, Poblats Marítims, Comarca de València, València / Valencia, Comunitat Valenciana, 46011, España, (39.4639745, -0.3336021, 0.0)), Location(Fabril Valencia Zapata Alicia, Avenida 1era Sur, Rumiñahui, Puerto Bolívar, Machala, El Oro, EC07, Ecuador, (-3.2678245, -79.9992927, 0.0)), Location(Calle Guillem de Castro, Ciutat Vella, València, Comarca de València, València / Valencia, Comunitat Valenciana, 46002, España, (39.4685733, -0.3804842, 0.0)), None, Location(calle Mistral, polígono industrial Plá de la Vallonga, la Serreta, Alacant / Alicante, l'Alacantí, Alacant / Alicante, Comunitat Valenciana, 03113, España, (38.3538883, -0.5553334, 0.0)), None]\n"
     ]
    }
   ],
   "source": [
    "print(direccion)"
   ]
  }
 ],
 "metadata": {
  "kernelspec": {
   "display_name": "Python 3 (ipykernel)",
   "language": "python",
   "name": "python3"
  },
  "language_info": {
   "codemirror_mode": {
    "name": "ipython",
    "version": 3
   },
   "file_extension": ".py",
   "mimetype": "text/x-python",
   "name": "python",
   "nbconvert_exporter": "python",
   "pygments_lexer": "ipython3",
   "version": "3.9.7"
  }
 },
 "nbformat": 4,
 "nbformat_minor": 4
}
